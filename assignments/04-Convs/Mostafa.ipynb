{
 "cells": [
  {
   "cell_type": "markdown",
   "id": "5fc3853c-8597-456a-9994-469007e842e2",
   "metadata": {
    "tags": []
   },
   "source": [
    "## Imports and Functions "
   ]
  },
  {
   "cell_type": "code",
   "execution_count": 1,
   "id": "b2ee2685-12c2-47e2-a00f-fb0b596c2a3e",
   "metadata": {
    "jupyter": {
     "source_hidden": true
    },
    "tags": []
   },
   "outputs": [],
   "source": [
    "\"\"\"\n",
    "A complete implementation and training of a CIFAR10 classifier.\n",
    "The prompt is to create another LearningRateScheduler.\n",
    "\"\"\"\n",
    "import time\n",
    "from typing import Tuple, Callable\n",
    "from torchvision.transforms import Compose, ToTensor\n",
    "\n",
    "\n",
    "import torch\n",
    "import torch.nn as nn\n",
    "from torch.utils.data import DataLoader\n",
    "from torchvision.datasets import CIFAR10\n",
    "from tqdm import tqdm\n",
    "\n",
    "from model import Model\n",
    "from config import CONFIG\n",
    "\n",
    "from matplotlib import pyplot as plt\n",
    "# Device configuration\n",
    "device = torch.device(\"cuda\" if torch.cuda.is_available() else \"cpu\")"
   ]
  },
  {
   "cell_type": "code",
   "execution_count": 2,
   "id": "a84fa54b-f33d-412e-b242-a200e2cb246f",
   "metadata": {
    "jupyter": {
     "source_hidden": true
    },
    "tags": []
   },
   "outputs": [],
   "source": [
    "def get_cifar10_data() -> Tuple[DataLoader, DataLoader]:\n",
    "    \"\"\"\n",
    "    Get the CIFAR10 data from torchvision.\n",
    "    Arguments:\n",
    "        None\n",
    "    Returns:\n",
    "        train_loader (DataLoader): The training data loader.\n",
    "        test_loader (DataLoader): The test data loader.\n",
    "    \"\"\"\n",
    "    # Get the training data:\n",
    "    train_data = CIFAR10(\n",
    "        root=\"data/cifar10\", train=True, download=True, transform=CONFIG.transforms\n",
    "    )\n",
    "    # Create a data loader for the training data:\n",
    "    train_loader = DataLoader(train_data, batch_size=CONFIG.batch_size, shuffle=True)\n",
    "    # Get the test data:\n",
    "    test_data = CIFAR10(\n",
    "        root=\"data/cifar10\", train=False, download=True, transform=CONFIG.transforms\n",
    "    )\n",
    "    # Create a data loader for the test data:\n",
    "    test_loader = DataLoader(test_data, batch_size=CONFIG.batch_size, shuffle=True)\n",
    "    # Return the data loaders:\n",
    "    return train_loader, test_loader\n",
    "\n",
    "\n",
    "def train(\n",
    "    model: torch.nn.Module,\n",
    "    train_loader: DataLoader,\n",
    "    test_loader: DataLoader,\n",
    "    num_epochs: int,\n",
    "    optimizer: torch.optim.Optimizer,\n",
    "    criterion: torch.nn.Module,\n",
    "    device: torch.device = device,\n",
    ") -> None:\n",
    "    \"\"\"\n",
    "    Train a model on the data.\n",
    "    Arguments:\n",
    "        model (torch.nn.Module): The model to train.\n",
    "        train_loader (DataLoader): The training data loader.\n",
    "        test_loader (DataLoader): The test data loader.\n",
    "        num_epochs (int): The number of epochs to train for.\n",
    "        optimizer (torch.optim.Optimizer): The optimizer to use.\n",
    "        criterion (torch.nn.Module): The loss function to use.\n",
    "        learning_rate_scheduler (torch.optim.lr_scheduler._LRScheduler): The\n",
    "            learning rate scheduler to use.\n",
    "        device (torch.device): The device to use for training.\n",
    "    Returns:\n",
    "        None\n",
    "    \"\"\"\n",
    "    # Move the model to the device:\n",
    "    model.to(device)\n",
    "    # Loop over the epochs:\n",
    "    for epoch in range(num_epochs):\n",
    "        # Set the model to training mode:\n",
    "        model.train()\n",
    "        # Loop over the training data:\n",
    "        for x, y in tqdm(train_loader):\n",
    "            # Move the data to the device:\n",
    "            x, y = x.to(device), y.to(device)\n",
    "            # Zero the gradients:\n",
    "            optimizer.zero_grad()\n",
    "            # Forward pass:\n",
    "            y_hat = model(x)\n",
    "            # Compute the loss:\n",
    "            loss = criterion(y_hat, y)\n",
    "            # Backward pass:\n",
    "            loss.backward()\n",
    "            # Update the parameters:\n",
    "            optimizer.step()\n",
    "        # Set the model to evaluation mode:\n",
    "        model.eval()\n",
    "        # Compute the accuracy on the test data:\n",
    "        accuracy = compute_accuracy(model, test_loader, device)\n",
    "        if accuracy > ACCURACY_THRESHOLD:\n",
    "            break\n",
    "        # Print the results:\n",
    "        print(f\"Epoch {epoch + 1} | Test Accuracy: {accuracy:.2f}\")\n",
    "\n",
    "\n",
    "def compute_accuracy(\n",
    "    model: torch.nn.Module, data_loader: DataLoader, device: torch.device = device\n",
    ") -> float:\n",
    "    \"\"\"\n",
    "    Compute the accuracy of a model on some data.\n",
    "    Arguments:\n",
    "        model (torch.nn.Module): The model to compute the accuracy of.\n",
    "        data_loader (DataLoader): The data loader to use.\n",
    "        device (torch.device): The device to use for training.\n",
    "    Returns:\n",
    "        accuracy (float): The accuracy of the model on the data.\n",
    "    \"\"\"\n",
    "    # Set the model to evaluation mode:\n",
    "    model.eval()\n",
    "    # Initialize the number of correct predictions:\n",
    "    num_correct = 0\n",
    "    # Loop over the data:\n",
    "    for x, y in data_loader:\n",
    "        # Move the data to the device:\n",
    "        x, y = x.to(device), y.to(device)\n",
    "        # Forward pass:\n",
    "        y_hat = model(x)\n",
    "        # Compute the predictions:\n",
    "        predictions = torch.argmax(y_hat, dim=1)\n",
    "        # Update the number of correct predictions:\n",
    "        num_correct += torch.sum(predictions == y).item()\n",
    "    # Compute the accuracy:\n",
    "    accuracy = num_correct / len(data_loader.dataset)\n",
    "    # Return the accuracy\n",
    "    return accuracy"
   ]
  },
  {
   "cell_type": "markdown",
   "id": "d3f67fc3-3d50-4150-b55b-84e0f72c6146",
   "metadata": {},
   "source": [
    "## Code "
   ]
  },
  {
   "cell_type": "code",
   "execution_count": 3,
   "id": "848e6ae5-893c-4e6b-b753-2cb6dbaae1b1",
   "metadata": {},
   "outputs": [],
   "source": [
    "ACCURACY_THRESHOLD = 0.55"
   ]
  },
  {
   "cell_type": "code",
   "execution_count": 4,
   "id": "bfd92f96-138f-4e44-b23b-a737c7aa72f0",
   "metadata": {},
   "outputs": [
    {
     "name": "stdout",
     "output_type": "stream",
     "text": [
      "Files already downloaded and verified\n",
      "Files already downloaded and verified\n"
     ]
    }
   ],
   "source": [
    "train_loader, test_loader = get_cifar10_data()"
   ]
  },
  {
   "cell_type": "code",
   "execution_count": 5,
   "id": "f42eddf6-2d8e-4e17-9fb5-b1f7277a73e2",
   "metadata": {},
   "outputs": [],
   "source": [
    "class CONFIG:\n",
    "    batch_size = 64\n",
    "    num_epochs = 8\n",
    "\n",
    "    optimizer_factory: Callable[\n",
    "        [nn.Module], torch.optim.Optimizer\n",
    "    ] = lambda model: torch.optim.Adam(model.parameters(), lr=1e-3)\n",
    "\n",
    "    transforms = Compose([ToTensor()])"
   ]
  },
  {
   "cell_type": "code",
   "execution_count": 6,
   "id": "8ba252ca-ebaa-4674-8825-4ba492b575c9",
   "metadata": {},
   "outputs": [],
   "source": [
    "class Model(torch.nn.Module):\n",
    "    def __init__(self, num_channels: int, num_classes: int) -> None:\n",
    "        super(Model, self).__init__()\n",
    "        self.conv1 = nn.Conv2d(in_channels=num_channels, out_channels=16, kernel_size=3)\n",
    "        self.conv2 = nn.Conv2d(in_channels=16, out_channels=32, kernel_size=3)\n",
    "        self.fc1 = nn.Linear(6272, 128)\n",
    "        self.fc2 = nn.Linear(128,num_classes)\n",
    "        self.pool = nn.MaxPool2d(2,2)\n",
    "\n",
    "    def forward(self, x: torch.Tensor) -> torch.Tensor:\n",
    "        \"\"\"\n",
    "        computes the output of the model\n",
    "        \"\"\"\n",
    "        x = torch.relu(self.conv1(x))\n",
    "        x = torch.relu(self.conv2(x))\n",
    "        x = self.pool(x)\n",
    "        x = x.view(x.size(0), -1) # Flatten\n",
    "        x = torch.relu(self.fc1(x))\n",
    "        x = torch.relu(self.fc2(x))\n",
    "        return x"
   ]
  },
  {
   "cell_type": "code",
   "execution_count": 7,
   "id": "0f032062-d1b8-47b1-a377-270afa316a28",
   "metadata": {},
   "outputs": [],
   "source": [
    "# Create the model:\n",
    "model = Model(num_channels=3, num_classes=10)\n",
    "# Create the optimizer:\n",
    "optimizer = CONFIG.optimizer_factory(model)\n",
    "# Create the loss function:\n",
    "criterion = torch.nn.CrossEntropyLoss()"
   ]
  },
  {
   "cell_type": "code",
   "execution_count": 8,
   "id": "f1c84aed-90b2-44e6-94b0-09cf36f4b95a",
   "metadata": {},
   "outputs": [
    {
     "name": "stderr",
     "output_type": "stream",
     "text": [
      "100%|█████████████████████████████████████████| 782/782 [00:33<00:00, 23.50it/s]\n"
     ]
    },
    {
     "name": "stdout",
     "output_type": "stream",
     "text": [
      "Epoch 1 | Test Accuracy: 0.40\n"
     ]
    },
    {
     "name": "stderr",
     "output_type": "stream",
     "text": [
      "100%|█████████████████████████████████████████| 782/782 [00:37<00:00, 21.10it/s]\n"
     ]
    },
    {
     "name": "stdout",
     "output_type": "stream",
     "text": [
      "Epoch 2 | Test Accuracy: 0.43\n"
     ]
    },
    {
     "name": "stderr",
     "output_type": "stream",
     "text": [
      "100%|█████████████████████████████████████████| 782/782 [00:35<00:00, 22.17it/s]\n"
     ]
    },
    {
     "name": "stdout",
     "output_type": "stream",
     "text": [
      "Epoch 3 | Test Accuracy: 0.45\n"
     ]
    },
    {
     "name": "stderr",
     "output_type": "stream",
     "text": [
      "100%|█████████████████████████████████████████| 782/782 [00:34<00:00, 22.35it/s]\n"
     ]
    },
    {
     "name": "stdout",
     "output_type": "stream",
     "text": [
      "Epoch 4 | Test Accuracy: 0.44\n"
     ]
    },
    {
     "name": "stderr",
     "output_type": "stream",
     "text": [
      "100%|█████████████████████████████████████████| 782/782 [00:33<00:00, 23.27it/s]\n"
     ]
    },
    {
     "name": "stdout",
     "output_type": "stream",
     "text": [
      "Epoch 5 | Test Accuracy: 0.45\n"
     ]
    },
    {
     "name": "stderr",
     "output_type": "stream",
     "text": [
      "100%|█████████████████████████████████████████| 782/782 [00:31<00:00, 24.98it/s]\n"
     ]
    },
    {
     "name": "stdout",
     "output_type": "stream",
     "text": [
      "Epoch 6 | Test Accuracy: 0.45\n"
     ]
    },
    {
     "name": "stderr",
     "output_type": "stream",
     "text": [
      "100%|█████████████████████████████████████████| 782/782 [00:30<00:00, 25.35it/s]\n"
     ]
    },
    {
     "name": "stdout",
     "output_type": "stream",
     "text": [
      "Epoch 7 | Test Accuracy: 0.45\n"
     ]
    },
    {
     "name": "stderr",
     "output_type": "stream",
     "text": [
      "100%|█████████████████████████████████████████| 782/782 [00:32<00:00, 24.21it/s]\n"
     ]
    },
    {
     "name": "stdout",
     "output_type": "stream",
     "text": [
      "Epoch 8 | Test Accuracy: 0.45\n"
     ]
    }
   ],
   "source": [
    "tic = time.time()\n",
    "train(\n",
    "    model,\n",
    "    train_loader,\n",
    "    test_loader,\n",
    "    num_epochs=CONFIG.num_epochs,\n",
    "    optimizer=optimizer,\n",
    "    criterion=criterion,\n",
    ")\n",
    "toc = time.time()"
   ]
  },
  {
   "cell_type": "code",
   "execution_count": 9,
   "id": "25909142-6659-46bc-a901-00d52f51b846",
   "metadata": {},
   "outputs": [
    {
     "name": "stdout",
     "output_type": "stream",
     "text": [
      "Training time: 290.84 seconds, final accuracy: 0.45\n"
     ]
    }
   ],
   "source": [
    "print(\n",
    "    f\"Training time: {toc - tic:.2f} seconds, final accuracy: {compute_accuracy(model, test_loader):.2f}\"\n",
    ")"
   ]
  },
  {
   "cell_type": "code",
   "execution_count": null,
   "id": "7bdfdb8b-ae6a-4583-8c5c-406f0855cd08",
   "metadata": {},
   "outputs": [],
   "source": []
  }
 ],
 "metadata": {
  "kernelspec": {
   "display_name": "mi-env",
   "language": "python",
   "name": "mi-env"
  },
  "language_info": {
   "codemirror_mode": {
    "name": "ipython",
    "version": 3
   },
   "file_extension": ".py",
   "mimetype": "text/x-python",
   "name": "python",
   "nbconvert_exporter": "python",
   "pygments_lexer": "ipython3",
   "version": "3.10.4"
  }
 },
 "nbformat": 4,
 "nbformat_minor": 5
}
