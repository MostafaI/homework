{
 "cells": [
  {
   "cell_type": "markdown",
   "id": "4c573222-664a-424d-ae6d-4d48067c1da0",
   "metadata": {
    "tags": []
   },
   "source": [
    "## Imports and Functions "
   ]
  },
  {
   "cell_type": "code",
   "execution_count": 6,
   "id": "f9f26614-410d-4cbd-907c-2df87c4a61b2",
   "metadata": {
    "jupyter": {
     "source_hidden": true
    },
    "tags": []
   },
   "outputs": [],
   "source": [
    "\"\"\"\n",
    "A complete implementation and training of a CIFAR10 classifier.\n",
    "\n",
    "The prompt is to create another LearningRateScheduler.\n",
    "\n",
    "\"\"\"\n",
    "from typing import Tuple, List\n",
    "from torch.optim.lr_scheduler import _LRScheduler\n",
    "\n",
    "import torch\n",
    "from torch.utils.data import DataLoader\n",
    "from torchvision.datasets import CIFAR10\n",
    "from tqdm import tqdm\n",
    "import numpy as np\n",
    "from model import MiniCNN\n",
    "from scheduler import CustomLRScheduler\n",
    "from config import CONFIG\n",
    "import time\n",
    "from matplotlib import pyplot as plt\n",
    "# Device configuration\n",
    "device = torch.device(\"cuda\" if torch.cuda.is_available() else \"cpu\")"
   ]
  },
  {
   "cell_type": "code",
   "execution_count": 7,
   "id": "048eb292-c03a-47d1-80ac-460a9d35613f",
   "metadata": {
    "jupyter": {
     "source_hidden": true
    },
    "tags": []
   },
   "outputs": [],
   "source": [
    "def get_cifar10_data() -> Tuple[DataLoader, DataLoader]:\n",
    "    \"\"\"\n",
    "    Get the CIFAR10 data from torchvision.\n",
    "\n",
    "    Arguments:\n",
    "        None\n",
    "\n",
    "    Returns:\n",
    "        train_loader (DataLoader): The training data loader.\n",
    "        test_loader (DataLoader): The test data loader.\n",
    "\n",
    "    \"\"\"\n",
    "    # Get the training data:\n",
    "    train_data = CIFAR10(\n",
    "        root=\"data/cifar10\", train=True, download=True, transform=CONFIG.transforms\n",
    "    )\n",
    "    # Create a data loader for the training data:\n",
    "    train_loader = DataLoader(train_data, batch_size=CONFIG.batch_size, shuffle=True)\n",
    "    # Get the test data:\n",
    "    test_data = CIFAR10(\n",
    "        root=\"data/cifar10\", train=False, download=True, transform=CONFIG.transforms\n",
    "    )\n",
    "    # Create a data loader for the test data:\n",
    "    test_loader = DataLoader(test_data, batch_size=CONFIG.batch_size, shuffle=True)\n",
    "    # Return the data loaders:\n",
    "    return train_loader, test_loader\n",
    "\n",
    "\n",
    "def train(\n",
    "    model: torch.nn.Module,\n",
    "    train_loader: DataLoader,\n",
    "    test_loader: DataLoader,\n",
    "    num_epochs: int,\n",
    "    optimizer: torch.optim.Optimizer,\n",
    "    criterion: torch.nn.Module,\n",
    "    learning_rate_scheduler: torch.optim.lr_scheduler._LRScheduler,\n",
    "    device: torch.device = device,\n",
    ") -> None:\n",
    "    \"\"\"\n",
    "    Train a model on the data.\n",
    "\n",
    "    Arguments:\n",
    "        model (torch.nn.Module): The model to train.\n",
    "        train_loader (DataLoader): The training data loader.\n",
    "        test_loader (DataLoader): The test data loader.\n",
    "        num_epochs (int): The number of epochs to train for.\n",
    "        optimizer (torch.optim.Optimizer): The optimizer to use.\n",
    "        criterion (torch.nn.Module): The loss function to use.\n",
    "        learning_rate_scheduler (torch.optim.lr_scheduler._LRScheduler): The\n",
    "            learning rate scheduler to use.\n",
    "        device (torch.device): The device to use for training.\n",
    "\n",
    "    Returns:\n",
    "        None\n",
    "\n",
    "    \"\"\"\n",
    "    # Move the model to the device:\n",
    "    model.to(device)\n",
    "    # Loop over the epochs:\n",
    "    all_loses, epoch_loses = [], []\n",
    "    all_accuracies = []\n",
    "    for epoch in range(num_epochs):\n",
    "        # Set the model to training mode:\n",
    "        model.train()\n",
    "        # Loop over the training data:\n",
    "        epoch_loss = []\n",
    "        for x, y in tqdm(train_loader):\n",
    "            # Move the data to the device:\n",
    "            x, y = x.to(device), y.to(device)\n",
    "            # Zero the gradients:\n",
    "            optimizer.zero_grad()\n",
    "            # Forward pass:\n",
    "            y_hat = model(x)\n",
    "            # Compute the loss:\n",
    "            loss = criterion(y_hat, y)\n",
    "            all_loses.append(loss.item())\n",
    "            epoch_loss.append(loss.item())\n",
    "            # Backward pass:\n",
    "            loss.backward()\n",
    "            # Update the parameters:\n",
    "            optimizer.step()\n",
    "            # Update the learning rate:\n",
    "            learning_rate_scheduler.step()\n",
    "        # Set the model to evaluation mode:\n",
    "        model.eval()\n",
    "        # Compute the accuracy on the test data:\n",
    "        accuracy = compute_accuracy(model, test_loader, device)\n",
    "        all_accuracies.append(accuracy)\n",
    "        epoch_loses.append(np.mean(epoch_loss))\n",
    "        # Print the results:\n",
    "        print(f\"Epoch {epoch + 1} | Test Accuracy: {accuracy:.2f}\")\n",
    "    return epoch_loses, all_loses,all_accuracies\n",
    "\n",
    "def compute_accuracy(\n",
    "    model: torch.nn.Module, data_loader: DataLoader, device: torch.device = device\n",
    ") -> float:\n",
    "    \"\"\"\n",
    "    Compute the accuracy of a model on some data.\n",
    "\n",
    "    Arguments:\n",
    "        model (torch.nn.Module): The model to compute the accuracy of.\n",
    "        data_loader (DataLoader): The data loader to use.\n",
    "        device (torch.device): The device to use for training.\n",
    "\n",
    "    Returns:\n",
    "        accuracy (float): The accuracy of the model on the data.\n",
    "\n",
    "    \"\"\"\n",
    "    # Set the model to evaluation mode:\n",
    "    model.eval()\n",
    "    # Initialize the number of correct predictions:\n",
    "    num_correct = 0\n",
    "    # Loop over the data:\n",
    "    for x, y in data_loader:\n",
    "        # Move the data to the device:\n",
    "        x, y = x.to(device), y.to(device)\n",
    "        # Forward pass:\n",
    "        y_hat = model(x)\n",
    "        # Compute the predictions:\n",
    "        predictions = torch.argmax(y_hat, dim=1)\n",
    "        # Update the number of correct predictions:\n",
    "        num_correct += torch.sum(predictions == y).item()\n",
    "    # Compute the accuracy:\n",
    "    accuracy = num_correct / len(data_loader.dataset)\n",
    "    # Return the accuracy\n",
    "    return accuracy"
   ]
  },
  {
   "cell_type": "markdown",
   "id": "82921b98-2235-466b-a0f0-78c0a838e68f",
   "metadata": {
    "jp-MarkdownHeadingCollapsed": true,
    "tags": []
   },
   "source": [
    "## Test_model"
   ]
  },
  {
   "cell_type": "code",
   "execution_count": 1,
   "id": "1936a2e9-70c5-4069-8688-319af066f3b9",
   "metadata": {},
   "outputs": [],
   "source": [
    "from test_model import *"
   ]
  },
  {
   "cell_type": "code",
   "execution_count": 2,
   "id": "437db0b5-efe4-4273-a1e4-cd0065490fae",
   "metadata": {},
   "outputs": [],
   "source": [
    "test_has_correct_attributes()"
   ]
  },
  {
   "cell_type": "code",
   "execution_count": 3,
   "id": "0e33623c-5dac-41c4-a6fe-dc378514a77c",
   "metadata": {},
   "outputs": [],
   "source": [
    "test_fn_signatures()"
   ]
  },
  {
   "cell_type": "code",
   "execution_count": 4,
   "id": "0ff580c1-b880-4e89-b2f2-9dfe81f134c0",
   "metadata": {},
   "outputs": [],
   "source": [
    "test_docstrings()"
   ]
  },
  {
   "cell_type": "markdown",
   "id": "7e94ef68-7649-4617-a90e-96ae8687411a",
   "metadata": {
    "tags": []
   },
   "source": [
    "## Code "
   ]
  },
  {
   "cell_type": "code",
   "execution_count": 97,
   "id": "56663ea4-e97a-41d1-8b47-5a12adb9f154",
   "metadata": {
    "jupyter": {
     "source_hidden": true
    },
    "tags": []
   },
   "outputs": [],
   "source": [
    "# Old Adagrad\n",
    "class CustomLRScheduler(_LRScheduler):\n",
    "    def __init__(self, optimizer, last_epoch=-1, decay_factor=0.1, decay_epochs=10, epsilon=0):\n",
    "        \"\"\"\n",
    "        Create a new scheduler.\n",
    "\n",
    "        Args:\n",
    "            optimizer (Optimizer): Wrapped optimizer.\n",
    "            last_epoch (int): The index of the last epoch. Default: -1.\n",
    "            decay_factor (float): Factor by which to decay the learning rate. Default: 0.1.\n",
    "            decay_epochs (int): Number of epochs after which to decay the learning rate. Default: 10.\n",
    "\n",
    "        \"\"\"\n",
    "        self.decay_factor = decay_factor\n",
    "        self.decay_epochs = decay_epochs\n",
    "        self.last_epoch = last_epoch\n",
    "        self.optimizer = optimizer\n",
    "        self.epsilon = epsilon\n",
    "        self.previous_lrs = []\n",
    "        self.previous_weights = []\n",
    "        # initialize parameter tracking variable\n",
    "        self.track_params = []\n",
    "        with torch.no_grad():\n",
    "            for param in optimizer.param_groups[0]['params']:\n",
    "                # skip over biases \n",
    "                if len(param.shape) == 1: continue\n",
    "                self.track_params.append(torch.Tensor(param).clone().detach()**2)\n",
    "        # save average params \n",
    "        self.average_params = 1\n",
    "        self.previous_gradient_sum = 0\n",
    "        super(CustomLRScheduler, self).__init__(optimizer, last_epoch)\n",
    "\n",
    "    def get_lr(self) -> List[float]:\n",
    "        with torch.no_grad():\n",
    "            current_lr = self.optimizer.param_groups[0]['lr']\n",
    "            self.previous_lrs.append(current_lr)\n",
    "            # Store weights of that decay epochs\n",
    "            if self.last_epoch % self.decay_epochs !=0:\n",
    "                # Update parameter tracking variable\n",
    "                i = 0\n",
    "                for param in self.optimizer.param_groups[0]['params']:\n",
    "                    # skip over biases \n",
    "                    if len(param.shape) == 1: continue\n",
    "                    param = torch.Tensor(param).clone().detach()**2\n",
    "                    self.track_params[i] += param\n",
    "                    i +=1\n",
    "                    return [group['lr'] for group in self.optimizer.param_groups]\n",
    "            # Update the learning rate\n",
    "            else:\n",
    "                plt.plot(self.previous_lrs)\n",
    "                self.previous_gradient_sum = self.average_params\n",
    "                self.average_params = 0\n",
    "                for param in self.track_params:\n",
    "                    self.average_params += param.sum()\n",
    "                self.average_params = torch.sqrt(self.average_params+self.epsilon) / len(self.track_params)\n",
    "                \n",
    "                # initialize parameter tracking variable\n",
    "                self.track_params = []\n",
    "                for param in self.optimizer.param_groups[0]['params']:\n",
    "                    # skip over biases\n",
    "                    if len(param.shape) == 1: continue\n",
    "                    self.track_params.append(torch.Tensor(param).clone().detach()**2)\n",
    "                \n",
    "                # New learning rate based on the change in gradient\n",
    "                # if no change, make it big\n",
    "                # if change, make it smaller\n",
    "                self.diff = abs(self.average_params - self.previous_gradient_sum).item()\n",
    "                # print('\\tcurrent learning rate =', current_lr, \n",
    "                #      'Average params =', self.average_params.item())\n",
    "                print('\\tcurrent Average params = =', self.average_params.item(), \n",
    "                     'previous_gradient_sum', self.previous_gradient_sum)\n",
    "                print('self.diff ', self.diff ,'current learning rate =', current_lr)\n",
    "                return [group['lr']/self.diff for group in self.optimizer.param_groups]\n",
    "            "
   ]
  },
  {
   "cell_type": "code",
   "execution_count": 8,
   "id": "69e839ff-282c-4559-ad77-f21e29f4316a",
   "metadata": {},
   "outputs": [],
   "source": [
    "from typing import Callable\n",
    "import torch\n",
    "import torch.optim\n",
    "import torch.nn as nn\n",
    "from torchvision.transforms import Compose, Normalize, ToTensor\n"
   ]
  },
  {
   "cell_type": "code",
   "execution_count": 9,
   "id": "d7c115ec-a299-406f-94cf-f09365539782",
   "metadata": {},
   "outputs": [
    {
     "name": "stdout",
     "output_type": "stream",
     "text": [
      "Files already downloaded and verified\n",
      "Files already downloaded and verified\n"
     ]
    }
   ],
   "source": [
    "# Create the data loaders:\n",
    "train_loader, test_loader = get_cifar10_data()\n",
    "# Create the loss function:\n",
    "criterion = torch.nn.CrossEntropyLoss()"
   ]
  },
  {
   "cell_type": "code",
   "execution_count": 10,
   "id": "3c6e1729-09d0-470b-a4a2-039c6cbe7a51",
   "metadata": {},
   "outputs": [
    {
     "data": {
      "text/plain": [
       "782"
      ]
     },
     "execution_count": 10,
     "metadata": {},
     "output_type": "execute_result"
    }
   ],
   "source": [
    "len(train_loader)"
   ]
  },
  {
   "cell_type": "code",
   "execution_count": 11,
   "id": "e4f5b00a-dfe1-443b-bd37-2ca88ee8b8c8",
   "metadata": {},
   "outputs": [],
   "source": [
    "class CONFIG:\n",
    "    batch_size = 64\n",
    "    num_epochs = 2\n",
    "    initial_learning_rate =  0.003\n",
    "    initial_weight_decay = 0\n",
    "    epoch_size = len(train_loader)\n",
    "    lrs_kwargs = {\n",
    "        # You can pass arguments to the learning rate scheduler\n",
    "        # constructor here.\n",
    "        'decay_factor' : 0.3,\n",
    "        'milestones' : [3, 4*epoch_size, 10*epoch_size],#    ,200  , 782*4 , 782*10],\n",
    "        'lrs'        : [0.003, 0.0005, 0.0001]# ,0.003 , 0.001 , 0.0005] \n",
    "    }\n",
    "\n",
    "    optimizer_factory: Callable[\n",
    "        [nn.Module], torch.optim.Optimizer\n",
    "    ] = lambda model: torch.optim.Adam(\n",
    "        model.parameters(),\n",
    "        lr=0.003, # CONFIG.initial_learning_rate,\n",
    "        weight_decay=CONFIG.initial_weight_decay,\n",
    "    )\n",
    "\n",
    "    transforms = Compose(\n",
    "        [\n",
    "            ToTensor(),\n",
    "            Normalize(0, 1)\n",
    "        ]\n",
    "    )\n"
   ]
  },
  {
   "cell_type": "code",
   "execution_count": 13,
   "id": "881e42bb-f2e0-4ea9-8bd4-a3fb03353f88",
   "metadata": {},
   "outputs": [],
   "source": [
    "# Old Adagrad\n",
    "class CustomLRScheduler(_LRScheduler):\n",
    "    # def __init__(self, optimizer, last_epoch=-1, decay_factor=0.1, decay_epochs=10, milestones=[]):\n",
    "    def __init__(self, optimizer, last_epoch=-1, lrs=[], milestones=[],decay_factor=0.1,decay_epochs=10):\n",
    "        \"\"\"\n",
    "        Create a new scheduler.\n",
    "        Args:\n",
    "            optimizer (Optimizer): Wrapped optimizer.\n",
    "            last_epoch (int): The index of the last epoch. Default: -1.\n",
    "            decay_factor (float): Factor by which to decay the learning rate. Default: 0.1.\n",
    "            decay_epochs (int): Number of epochs after which to decay the learning rate. Default: 10.\n",
    "\n",
    "        \"\"\"\n",
    "        self.decay_factor = decay_factor\n",
    "        self.decay_epochs = decay_epochs\n",
    "        self.last_epoch = last_epoch\n",
    "        self.optimizer = optimizer\n",
    "        self.milestones = milestones\n",
    "        self.lrs = lrs\n",
    "        self.prev_lrs = []\n",
    "        super(CustomLRScheduler, self).__init__(optimizer, last_epoch)\n",
    "\n",
    "    def get_lr(self) -> List[float]:\n",
    "        current_lr = [group['lr'] for group in self.optimizer.param_groups][0]\n",
    "        if self.last_epoch ==0 : print('initial LR =',current_lr)\n",
    "        self.prev_lrs.append([group['lr'] for group in self.optimizer.param_groups][0])\n",
    "        for milestone, lr in zip(self.milestones, self.lrs):\n",
    "            if self.last_epoch == milestone:\n",
    "                print(self.last_epoch, 'old LR =', current_lr)\n",
    "                print('\\tnew LR =', lr)\n",
    "                return [lr for group in self.optimizer.param_groups]\n",
    "        if self.last_epoch == 14* 372: plt.plot(self.prev_lrs)\n",
    "        return [group['lr'] for group in self.optimizer.param_groups]\n",
    "            "
   ]
  },
  {
   "cell_type": "code",
   "execution_count": 14,
   "id": "33f9ab78-f3e9-407b-ace9-aa0cd85b18dd",
   "metadata": {
    "tags": []
   },
   "outputs": [
    {
     "name": "stdout",
     "output_type": "stream",
     "text": [
      "initial LR = 0.003\n"
     ]
    },
    {
     "name": "stderr",
     "output_type": "stream",
     "text": [
      "  0%|                                           | 1/782 [00:00<01:25,  9.15it/s]"
     ]
    },
    {
     "name": "stdout",
     "output_type": "stream",
     "text": [
      "3 old LR = 0.003\n",
      "\tnew LR = 0.003\n"
     ]
    },
    {
     "name": "stderr",
     "output_type": "stream",
     "text": [
      "100%|█████████████████████████████████████████| 782/782 [00:12<00:00, 63.36it/s]\n"
     ]
    },
    {
     "name": "stdout",
     "output_type": "stream",
     "text": [
      "Epoch 1 | Test Accuracy: 0.42\n"
     ]
    },
    {
     "name": "stderr",
     "output_type": "stream",
     "text": [
      "100%|█████████████████████████████████████████| 782/782 [00:12<00:00, 62.64it/s]\n"
     ]
    },
    {
     "name": "stdout",
     "output_type": "stream",
     "text": [
      "Epoch 2 | Test Accuracy: 0.47\n"
     ]
    },
    {
     "name": "stderr",
     "output_type": "stream",
     "text": [
      "100%|█████████████████████████████████████████| 782/782 [00:12<00:00, 64.40it/s]\n"
     ]
    },
    {
     "name": "stdout",
     "output_type": "stream",
     "text": [
      "Epoch 3 | Test Accuracy: 0.51\n"
     ]
    },
    {
     "name": "stderr",
     "output_type": "stream",
     "text": [
      "100%|█████████████████████████████████████████| 782/782 [00:11<00:00, 67.57it/s]\n"
     ]
    },
    {
     "name": "stdout",
     "output_type": "stream",
     "text": [
      "3128 old LR = 0.003\n",
      "\tnew LR = 0.0005\n",
      "Epoch 4 | Test Accuracy: 0.52\n"
     ]
    },
    {
     "name": "stderr",
     "output_type": "stream",
     "text": [
      "100%|█████████████████████████████████████████| 782/782 [00:12<00:00, 63.98it/s]\n"
     ]
    },
    {
     "name": "stdout",
     "output_type": "stream",
     "text": [
      "Epoch 5 | Test Accuracy: 0.54\n"
     ]
    },
    {
     "name": "stderr",
     "output_type": "stream",
     "text": [
      "100%|█████████████████████████████████████████| 782/782 [00:12<00:00, 63.19it/s]\n"
     ]
    },
    {
     "name": "stdout",
     "output_type": "stream",
     "text": [
      "Epoch 6 | Test Accuracy: 0.55\n"
     ]
    },
    {
     "name": "stderr",
     "output_type": "stream",
     "text": [
      "100%|█████████████████████████████████████████| 782/782 [00:12<00:00, 64.74it/s]\n"
     ]
    },
    {
     "name": "stdout",
     "output_type": "stream",
     "text": [
      "Epoch 7 | Test Accuracy: 0.55\n"
     ]
    },
    {
     "name": "stderr",
     "output_type": "stream",
     "text": [
      "100%|█████████████████████████████████████████| 782/782 [00:12<00:00, 63.32it/s]\n"
     ]
    },
    {
     "name": "stdout",
     "output_type": "stream",
     "text": [
      "Epoch 8 | Test Accuracy: 0.56\n"
     ]
    },
    {
     "name": "stderr",
     "output_type": "stream",
     "text": [
      "100%|█████████████████████████████████████████| 782/782 [00:12<00:00, 63.06it/s]\n"
     ]
    },
    {
     "name": "stdout",
     "output_type": "stream",
     "text": [
      "Epoch 9 | Test Accuracy: 0.56\n"
     ]
    },
    {
     "name": "stderr",
     "output_type": "stream",
     "text": [
      "100%|█████████████████████████████████████████| 782/782 [00:13<00:00, 56.78it/s]\n"
     ]
    },
    {
     "name": "stdout",
     "output_type": "stream",
     "text": [
      "7820 old LR = 0.0005\n",
      "\tnew LR = 0.0001\n",
      "Epoch 10 | Test Accuracy: 0.55\n"
     ]
    },
    {
     "name": "stderr",
     "output_type": "stream",
     "text": [
      "100%|█████████████████████████████████████████| 782/782 [00:12<00:00, 62.29it/s]\n"
     ]
    },
    {
     "name": "stdout",
     "output_type": "stream",
     "text": [
      "Epoch 11 | Test Accuracy: 0.56\n"
     ]
    },
    {
     "name": "stderr",
     "output_type": "stream",
     "text": [
      "100%|█████████████████████████████████████████| 782/782 [00:12<00:00, 61.76it/s]\n"
     ]
    },
    {
     "name": "stdout",
     "output_type": "stream",
     "text": [
      "Epoch 12 | Test Accuracy: 0.56\n"
     ]
    },
    {
     "name": "stderr",
     "output_type": "stream",
     "text": [
      "100%|█████████████████████████████████████████| 782/782 [00:12<00:00, 64.77it/s]\n"
     ]
    },
    {
     "name": "stdout",
     "output_type": "stream",
     "text": [
      "Epoch 13 | Test Accuracy: 0.56\n"
     ]
    },
    {
     "name": "stderr",
     "output_type": "stream",
     "text": [
      "100%|█████████████████████████████████████████| 782/782 [00:12<00:00, 61.07it/s]\n"
     ]
    },
    {
     "name": "stdout",
     "output_type": "stream",
     "text": [
      "Epoch 14 | Test Accuracy: 0.56\n"
     ]
    },
    {
     "name": "stderr",
     "output_type": "stream",
     "text": [
      "100%|█████████████████████████████████████████| 782/782 [00:12<00:00, 63.26it/s]\n"
     ]
    },
    {
     "name": "stdout",
     "output_type": "stream",
     "text": [
      "Epoch 15 | Test Accuracy: 0.57\n",
      "3.560618968804677 minutes\n"
     ]
    },
    {
     "data": {
      "image/png": "[encoded data removed]",
      "text/plain": [
       "<Figure size 432x288 with 1 Axes>"
      ]
     },
     "metadata": {
      "needs_background": "light"
     },
     "output_type": "display_data"
    }
   ],
   "source": [
    "start = time.time()\n",
    "# Create the model:\n",
    "model = MiniCNN(num_channels=3)\n",
    "# Create the optimizer:\n",
    "optimizer = CONFIG.optimizer_factory(model)\n",
    "# Create the learning rate scheduler:\n",
    "learning_rate_scheduler = CustomLRScheduler(optimizer, **CONFIG.lrs_kwargs)\n",
    "# Train the model:\n",
    "epoch_loses, all_loses,all_accuracies = train(\n",
    "                                        model,\n",
    "                                        train_loader,\n",
    "                                        test_loader,\n",
    "                                        num_epochs= 15,#CONFIG.num_epochs,\n",
    "                                        optimizer=optimizer,\n",
    "                                        criterion=criterion,\n",
    "                                        learning_rate_scheduler=learning_rate_scheduler,\n",
    "                                    )\n",
    "print( (time.time() - start)/60 , 'minutes')"
   ]
  },
  {
   "cell_type": "code",
   "execution_count": 140,
   "id": "435628bc-56a3-47ce-9c95-7b1edeef7344",
   "metadata": {},
   "outputs": [],
   "source": [
    "el_lr, al_lr, acc_lr = epoch_loses.copy(), all_loses.copy(),all_accuracies.copy()"
   ]
  },
  {
   "cell_type": "code",
   "execution_count": 131,
   "id": "dfe54b6c-faa8-4e41-988e-81533f04d0f8",
   "metadata": {},
   "outputs": [
    {
     "data": {
      "text/plain": [
       "Text(0.5, 1.0, 'Accuracies')"
      ]
     },
     "execution_count": 131,
     "metadata": {},
     "output_type": "execute_result"
    },
    {
     "data": {
      "image/png": "[encoded data removed]",
      "text/plain": [
       "<Figure size 720x216 with 2 Axes>"
      ]
     },
     "metadata": {
      "needs_background": "light"
     },
     "output_type": "display_data"
    }
   ],
   "source": [
    "plt.figure(figsize=(10,3))\n",
    "plt.subplot(1,2,1)\n",
    "plt.plot(el_lr, label ='lr = new' )\n",
    "\n",
    "# plt.plot(el_lr_003_0003, label ='lr = 0.003(4)-0.0003' )\n",
    "# plt.plot(el_lr_003_0005_5, label ='lr = 0.003(5)-0.0005' )\n",
    "# plt.plot(el_lr_003_0005, label ='lr = 0.003(4)-0.0005' )\n",
    "# plt.plot(el_lr_003_0005_4, label ='lr = 0.003(4*)-0.0005' )\n",
    "# plt.plot(el_lr_003_0001_4, label ='lr = 0.003(4*)-0.0001' )\n",
    "# plt.plot(el_lr_003_0005_3, label ='lr = 0.003(3)-0.0005' )\n",
    "\n",
    "\n",
    "# plt.plot(el_lr_003_0005_0001, label ='lr = 0.003(4)-0.0005(6)-0.0001' )\n",
    "# plt.plot(el_lr_003_0005_00005, label ='lr = 0.003(4)-0.0005(6)-0.00005' )\n",
    "# plt.plot(el_lr_003_0005_00005_10, label ='lr = 0.003(4)-0.0005(10)-0.00005' )\n",
    "\n",
    "\n",
    "plt.legend()\n",
    "plt.title('epoch loss')\n",
    "plt.subplot(1,2,2)\n",
    "plt.plot(acc_lr, label ='lr = new' )\n",
    "\n",
    "# plt.plot(acc_lr_003_0003, label ='lr = 0.003(4)-0.0003' )\n",
    "# plt.plot(acc_lr_003_0005_5, label ='lr = 0.003(5)-0.0005' )\n",
    "# plt.plot(acc_lr_003_0005, label ='lr = 0.003(4)-0.0005' )\n",
    "# plt.plot(acc_lr_003_0005_4, label ='lr = 0.003(4*)-0.0005' )\n",
    "# plt.plot(acc_lr_003_0001_4, label ='lr = 0.003(4*)-0.0001' )\n",
    "\n",
    "# plt.plot(acc_lr_003_0005_3, label ='lr = 0.003(3)-0.0005' )\n",
    "\n",
    "# plt.plot(acc_lr_003_0005_0001, label ='lr = 0.003(4)-0.0005(6)-0.0001' )\n",
    "# plt.plot(acc_lr_003_0005_00005, label ='lr = 0.003(4)-0.0005(6)-0.00005' )\n",
    "# plt.plot(acc_lr_003_0005_00005_10, label ='lr = 0.003(4)-0.0005(10)-0.00005' )\n",
    "\n",
    "\n",
    "\n",
    "plt.legend()\n",
    "plt.title('Accuracies')"
   ]
  },
  {
   "cell_type": "code",
   "execution_count": null,
   "id": "7b404758-deab-4175-b2e2-66a1f0cc7c06",
   "metadata": {},
   "outputs": [],
   "source": []
  },
  {
   "cell_type": "code",
   "execution_count": 155,
   "id": "5d3e7657-9a65-4774-ba01-e9b441d3951d",
   "metadata": {},
   "outputs": [
    {
     "data": {
      "text/plain": [
       "Text(0.5, 1.0, 'Accuracies')"
      ]
     },
     "execution_count": 155,
     "metadata": {},
     "output_type": "execute_result"
    },
    {
     "data": {
      "image/png": "[encoded data removed]",
      "text/plain": [
       "<Figure size 432x288 with 1 Axes>"
      ]
     },
     "metadata": {
      "needs_background": "light"
     },
     "output_type": "display_data"
    }
   ],
   "source": []
  },
  {
   "cell_type": "code",
   "execution_count": null,
   "id": "29446b4a-7100-4085-8ceb-e974b3e079bb",
   "metadata": {},
   "outputs": [],
   "source": [
    "# Defualt 0.001: 0.42, 0.48, 0.51"
   ]
  },
  {
   "cell_type": "code",
   "execution_count": null,
   "id": "a9db60e6-bc6f-4d7c-beca-77e9aeb1ef9a",
   "metadata": {},
   "outputs": [],
   "source": []
  }
 ],
 "metadata": {
  "kernelspec": {
   "display_name": "mi-env",
   "language": "python",
   "name": "mi-env"
  },
  "language_info": {
   "codemirror_mode": {
    "name": "ipython",
    "version": 3
   },
   "file_extension": ".py",
   "mimetype": "text/x-python",
   "name": "python",
   "nbconvert_exporter": "python",
   "pygments_lexer": "ipython3",
   "version": "3.10.4"
  }
 },
 "nbformat": 4,
 "nbformat_minor": 5
}
